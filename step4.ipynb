{
 "cells": [
  {
   "cell_type": "code",
   "execution_count": 1,
   "metadata": {},
   "outputs": [
    {
     "name": "stdout",
     "output_type": "stream",
     "text": [
      "2\n",
      "5\n",
      "7\n",
      "17\n",
      "7\n"
     ]
    }
   ],
   "source": [
    "# Q 1\n",
    "A, B = map(int, input().split())\n",
    "while A != 0 and B != 0:\n",
    "    print(A + B)\n",
    "    A, B = map(int, input().split())"
   ]
  },
  {
   "cell_type": "code",
   "execution_count": 2,
   "metadata": {},
   "outputs": [
    {
     "name": "stdout",
     "output_type": "stream",
     "text": [
      "2\n",
      "5\n",
      "7\n",
      "17\n",
      "7\n"
     ]
    }
   ],
   "source": [
    "# Q 2\n",
    "A, B = map(int, input().split())\n",
    "while True:\n",
    "    try:\n",
    "        print(A + B)\n",
    "        A, B = map(int, input().split())\n",
    "    except:\n",
    "        break"
   ]
  },
  {
   "cell_type": "code",
   "execution_count": 3,
   "metadata": {},
   "outputs": [
    {
     "name": "stdout",
     "output_type": "stream",
     "text": [
      "4\n"
     ]
    }
   ],
   "source": [
    "# Q 3 (solution 1)\n",
    "N = int(input())\n",
    "N_re = N\n",
    "count = 0\n",
    "\n",
    "while True:\n",
    "    if N_re < 10:\n",
    "        N_str = str(0) + str(N_re)\n",
    "    else:\n",
    "        N_str = str(N_re)\n",
    "    N_sum = int(N_str[0]) + int(N_str[-1])\n",
    "    N_new = int(N_str[-1] + str(N_sum)[-1])\n",
    "    N_re = N_new\n",
    "    count += 1\n",
    "    if N == N_new:\n",
    "        break\n",
    "print(count)"
   ]
  },
  {
   "cell_type": "code",
   "execution_count": 4,
   "metadata": {},
   "outputs": [
    {
     "name": "stdout",
     "output_type": "stream",
     "text": [
      "4\n"
     ]
    }
   ],
   "source": [
    "# Q 3 (solution 2)\n",
    "N = int(input())\n",
    "N_re = N\n",
    "count = 0\n",
    "\n",
    "while True:\n",
    "    N_sum = (N_re // 10) + (N_re % 10)\n",
    "    N_new = (N_re % 10) * 10 + (N_sum % 10)\n",
    "    N_re = N_new\n",
    "    count += 1\n",
    "    if N == N_new:\n",
    "        break\n",
    "print(count)"
   ]
  },
  {
   "cell_type": "code",
   "execution_count": null,
   "metadata": {},
   "outputs": [],
   "source": []
  }
 ],
 "metadata": {
  "interpreter": {
   "hash": "6d46af94c2bbce495f1e668725902fa517c90b1782bcfe2fce0dd9868df553d3"
  },
  "kernelspec": {
   "display_name": "Python 3.8.8 64-bit ('base': conda)",
   "language": "python",
   "name": "python3"
  },
  "language_info": {
   "codemirror_mode": {
    "name": "ipython",
    "version": 3
   },
   "file_extension": ".py",
   "mimetype": "text/x-python",
   "name": "python",
   "nbconvert_exporter": "python",
   "pygments_lexer": "ipython3",
   "version": "3.8.8"
  },
  "orig_nbformat": 4
 },
 "nbformat": 4,
 "nbformat_minor": 2
}

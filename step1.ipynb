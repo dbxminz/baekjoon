{
 "cells": [
  {
   "cell_type": "code",
   "execution_count": 1,
   "metadata": {},
   "outputs": [
    {
     "name": "stdout",
     "output_type": "stream",
     "text": [
      "Hello World!\n"
     ]
    }
   ],
   "source": [
    "# Q 1\n",
    "print(\"Hello World!\")"
   ]
  },
  {
   "cell_type": "code",
   "execution_count": 2,
   "metadata": {},
   "outputs": [
    {
     "name": "stdout",
     "output_type": "stream",
     "text": [
      "강한친구 대한육군\n",
      "강한친구 대한육군\n"
     ]
    }
   ],
   "source": [
    "# Q 2\n",
    "print(\"강한친구 대한육군\")\n",
    "print(\"강한친구 대한육군\")"
   ]
  },
  {
   "cell_type": "code",
   "execution_count": 5,
   "metadata": {},
   "outputs": [
    {
     "name": "stdout",
     "output_type": "stream",
     "text": [
      "\\    /\\\n",
      " )  ( ')\n",
      "(  /  )\n",
      " \\(__)|\n"
     ]
    }
   ],
   "source": [
    "# Q 3\n",
    "print(\"\\\\    /\\\\\")\n",
    "print(\" )  ( ')\")\n",
    "print(\"(  /  )\")\n",
    "print(\" \\(__)|\")"
   ]
  },
  {
   "cell_type": "code",
   "execution_count": 8,
   "metadata": {},
   "outputs": [
    {
     "name": "stdout",
     "output_type": "stream",
     "text": [
      "|\\_/|\n",
      "|q p|   /}\n",
      "( 0 )\"\"\"\\\n",
      "|\"^\"`    |\n",
      "||_/=\\\\__|\n"
     ]
    }
   ],
   "source": [
    "# Q 4\n",
    "print(\"|\\_/|\")\n",
    "print(\"|q p|   /}\")\n",
    "print('( 0 )\"\"\"\\\\')\n",
    "print('|\"^\"`    |')\n",
    "print(\"||_/=\\\\\\\\__|\")"
   ]
  },
  {
   "cell_type": "code",
   "execution_count": 13,
   "metadata": {},
   "outputs": [
    {
     "name": "stdout",
     "output_type": "stream",
     "text": [
      "3\n"
     ]
    }
   ],
   "source": [
    "# Q 5\n",
    "A, B = input().split()\n",
    "print(int(A) + int(B))"
   ]
  },
  {
   "cell_type": "code",
   "execution_count": 14,
   "metadata": {},
   "outputs": [
    {
     "name": "stdout",
     "output_type": "stream",
     "text": [
      "1\n"
     ]
    }
   ],
   "source": [
    "# Q 6\n",
    "A, B = input().split()\n",
    "print(int(A) - int(B))"
   ]
  },
  {
   "cell_type": "code",
   "execution_count": 17,
   "metadata": {},
   "outputs": [
    {
     "name": "stdout",
     "output_type": "stream",
     "text": [
      "12\n"
     ]
    }
   ],
   "source": [
    "# Q 7\n",
    "A, B = input().split()\n",
    "print(int(A) * int(B))"
   ]
  },
  {
   "cell_type": "code",
   "execution_count": 18,
   "metadata": {},
   "outputs": [
    {
     "name": "stdout",
     "output_type": "stream",
     "text": [
      "0.3333333333333333\n"
     ]
    }
   ],
   "source": [
    "# Q 8\n",
    "A, B = input().split()\n",
    "print(int(A) / int(B))"
   ]
  },
  {
   "cell_type": "code",
   "execution_count": 29,
   "metadata": {},
   "outputs": [
    {
     "name": "stdout",
     "output_type": "stream",
     "text": [
      "10\n",
      "4\n",
      "21\n",
      "2\n",
      "1\n"
     ]
    }
   ],
   "source": [
    "# Q 9\n",
    "A, B = map(int, input().split())\n",
    "\n",
    "print(A + B)\n",
    "print(A - B)\n",
    "print(A * B)\n",
    "print(A // B)\n",
    "print(A % B)"
   ]
  },
  {
   "cell_type": "code",
   "execution_count": 21,
   "metadata": {},
   "outputs": [
    {
     "name": "stdout",
     "output_type": "stream",
     "text": [
      "joonas??!\n"
     ]
    }
   ],
   "source": [
    "# Q 10\n",
    "idName = input()\n",
    "print(idName + '??!')"
   ]
  },
  {
   "cell_type": "code",
   "execution_count": 24,
   "metadata": {},
   "outputs": [
    {
     "name": "stdout",
     "output_type": "stream",
     "text": [
      "1998\n"
     ]
    }
   ],
   "source": [
    "# Q 11\n",
    "year = int(input())\n",
    "re_year = year - 543\n",
    "print(re_year)"
   ]
  },
  {
   "cell_type": "code",
   "execution_count": 28,
   "metadata": {},
   "outputs": [
    {
     "name": "stdout",
     "output_type": "stream",
     "text": [
      "1\n",
      "1\n",
      "0\n",
      "0\n"
     ]
    }
   ],
   "source": [
    "# Q 12\n",
    "A, B, C = map(int, input().split())\n",
    "\n",
    "print((A + B) % C)\n",
    "print(((A % C) + (B % C)) % C)\n",
    "print((A * B) % C)\n",
    "print(((A % C) * (B % C)) % C)\n"
   ]
  },
  {
   "cell_type": "code",
   "execution_count": 34,
   "metadata": {},
   "outputs": [
    {
     "name": "stdout",
     "output_type": "stream",
     "text": [
      "2360\n",
      "3776\n",
      "1416\n",
      "181720\n"
     ]
    }
   ],
   "source": [
    "# Q 13\n",
    "num1 = int(input())\n",
    "num2 = int(input())\n",
    "\n",
    "num2_1 = num2 % 10\n",
    "num2_2 = (num2 % 100) // 10\n",
    "num2_3 = num2 // 100\n",
    "\n",
    "print(num1 * num2_1)\n",
    "print(num1 * num2_2)\n",
    "print(num1 * num2_3)\n",
    "print(num1 * num2)"
   ]
  },
  {
   "cell_type": "code",
   "execution_count": null,
   "metadata": {},
   "outputs": [],
   "source": []
  }
 ],
 "metadata": {
  "interpreter": {
   "hash": "6d46af94c2bbce495f1e668725902fa517c90b1782bcfe2fce0dd9868df553d3"
  },
  "kernelspec": {
   "display_name": "Python 3.8.8 64-bit ('base': conda)",
   "language": "python",
   "name": "python3"
  },
  "language_info": {
   "codemirror_mode": {
    "name": "ipython",
    "version": 3
   },
   "file_extension": ".py",
   "mimetype": "text/x-python",
   "name": "python",
   "nbconvert_exporter": "python",
   "pygments_lexer": "ipython3",
   "version": "3.8.8"
  },
  "orig_nbformat": 4
 },
 "nbformat": 4,
 "nbformat_minor": 2
}
